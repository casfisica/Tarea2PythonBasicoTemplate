{
 "metadata": {
  "language_info": {
   "codemirror_mode": {
    "name": "ipython",
    "version": 3
   },
   "file_extension": ".py",
   "mimetype": "text/x-python",
   "name": "python",
   "nbconvert_exporter": "python",
   "pygments_lexer": "ipython3",
   "version": "3.9.2-final"
  },
  "orig_nbformat": 2,
  "kernelspec": {
   "name": "python3",
   "display_name": "Python 3.9.2 64-bit",
   "metadata": {
    "interpreter": {
     "hash": "ac59ebe37160ed0dfa835113d9b8498d9f09ceb179beaac4002f036b9467c963"
    }
   }
  }
 },
 "nbformat": 4,
 "nbformat_minor": 2,
 "cells": [
  {
   "source": [
    "# Física Computacional-I\n",
    "## Tarea 2, Python básico\n",
    "\n",
    "### Este notebook no debe de ser modificado, si no ejecuta correctamente, los modulos es lo único que puede modificar.\n",
    "\n",
    "\n",
    "## Teoría\n",
    "\n",
    "### Coeficientes Binomiales\n",
    "\n",
    " Los Coeficientes Binomiales, que generalmente se representan como${n\\choose k}$ son enteros que corresponden al número de formas en que se puede extraer subconjuntos a partir de un conjunto. Se pueden calcular con la siguiente expresión\n",
    "\n",
    "\\begin{equation}\n",
    "{n\\choose k} = {n!\\over k!(n-k)!}\n",
    "  = {n\\times(n-1)\\times(n-2)\\times\\ldots\\times(n-k+1)\\over\n",
    "     1\\times2\\times\\ldots\\times k}\n",
    "\\end{equation}\n",
    "\n",
    "con $k\\ge1$ y ${n\\choose0}=1$ si $k=0$.\n",
    "\n",
    "#### El triángulo de Pascal o triángulo de coeficientes binomiales}\n",
    "\n",
    "Es una representación de los coeficientes binomiales ordenados en forma de triángulo. donde los renglones corresponden a n = 0, 1, 2, 3, 4, .. Para cada n, el n-ésimo renglón está formado por los números ${n\\choose k}$, con $k = 0, 1, . . . , n$, ver Figura.\n",
    "\n",
    "![Triángulo de Pascal](Images/Pascal.png#center)\n",
    "\n",
    "\n",
    "## Ejercicios\n",
    "\n",
    "__Notas:__ \n",
    "- Todas las funciones deben de ser creadas dentro de un módulo llamado *funciones.py* para que pueda ser llamado por el programa principal que se llama *Tarea1.py*.\n",
    "- No puede usar modulos externos diferentes a los ya mensionados.\n",
    "\n",
    "1. Cree las siguientes funciones.\n",
    "\t\n",
    "- **Factorial(n)** que reciba un numero $n$ y entregue $n!=n\\times(n-1)\\times(n-2)...\\times2$.\n",
    "\n",
    "- **Binomial(n,k)** que dados los enteros $n, k$ calcule y entregue los correspondientes coeficientes binomiales según la ecuación de arriba.\n",
    "\n",
    "- Con la ayuda de la función **Binomial(n,k)* construya una función llamada **Pascal(n)** que genere un triangulo de pascal de $n$ lineas y lo guarda en un archivo con nombre *Pascal-n.txt*.\n",
    "  \n",
    "- La probabilidad de que cuando se lanza una moneda $n$ veces resulte un número $k$ de veces cara (sello) está dada por la expresión ${n\\choose k}/2^n$. Usando el módulo que ya escribió escriba una rutina dentro de Tarea1 que calcule e imprima: \n",
    "  (a) La probabilidad de que si se hace este experimento 100 veces, el resultado sean 10 veces cara.\n",
    "  (b) La probabilidad de que caiga cara más de 30 veces.\n",
    "\n",
    "2. Una vez creadas las funciones el siguiente código debe de funcionar sin errores.\n"
   ],
   "cell_type": "markdown",
   "metadata": {}
  },
  {
   "source": [
    "import numpy as np\n",
    "import funciones as fun\n",
    "\n",
    "def binomial(x, y):\n",
    "    try:\n",
    "        return np.math.factorial(x) // np.math.factorial(y) // np.math.factorial(x - y)\n",
    "    except ValueError:\n",
    "        return 0"
   ],
   "cell_type": "code",
   "metadata": {},
   "execution_count": null,
   "outputs": []
  },
  {
   "cell_type": "code",
   "execution_count": null,
   "metadata": {},
   "outputs": [],
   "source": [
    "if (fun.Factorial(10)==np.math.factorial(10)):\n",
    "    print('La función Factorial está correcta')\n",
    "else:\n",
    "    print('ERROR, La función Factorial tiene probemas')\n",
    "\n",
    "if fun.Binomial(7,6)==binomial(7,6):\n",
    "    print('El coeficiente binomial está correcto')\n",
    "else:\n",
    "    print('ERROR, La función Binomial tiene probemas')\n",
    "\n",
    "%run -i \"tarea1\""
   ]
  },
  {
   "source": [
    "## Checks\n",
    "\n",
    "1. Tanto la función *Binomial(n,k)* como *Factorial(n)* solo pueden recibir enteros y entregar enteros.\n",
    "\t\n",
    "2. Su trinágulo debe tener esta forma\n",
    "\n",
    "\n",
    "            n=0~~~~~~1\n",
    "            n=1~~~~~1 1 \n",
    "            n=2~~~~1 2 1\n",
    "            n=3~~~1 3 3 1\n",
    "            n=4~~1 4 6 4 1\n",
    "            .\n",
    "            .\n",
    "            .\n",
    "\n",
    "\\item Todas las funciones deben de estar debidamente comentadas\n"
   ],
   "cell_type": "markdown",
   "metadata": {}
  },
  {
   "cell_type": "code",
   "execution_count": null,
   "metadata": {},
   "outputs": [],
   "source": []
  }
 ]
}